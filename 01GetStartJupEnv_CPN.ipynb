{
 "cells": [
  {
   "cell_type": "code",
   "execution_count": 1,
   "metadata": {
    "colab": {
     "base_uri": "https://localhost:8080/"
    },
    "id": "a10Ka0cI3dMw",
    "outputId": "17d1bfdd-5e1c-419a-cd7a-ac5663148a00"
   },
   "outputs": [
    {
     "name": "stdout",
     "output_type": "stream",
     "text": [
      "Hello World!\n"
     ]
    }
   ],
   "source": [
    "def helloWorld():\n",
    "  print(\"Hello World!\")\n",
    "\n",
    "helloWorld()"
   ]
  },
  {
   "cell_type": "markdown",
   "metadata": {
    "id": "OW-9a1Jh3xqs"
   },
   "source": [
    "# About the helloWorld() function\n",
    "The function takes no arguments and prints out the message:\n",
    "\n",
    "> \"Hello World!\"\n",
    "\n"
   ]
  }
 ],
 "metadata": {
  "colab": {
   "name": "01GetStartJupEnv-CPN.ipynb",
   "provenance": []
  },
  "kernelspec": {
   "display_name": "Python 3",
   "language": "python",
   "name": "python3"
  },
  "language_info": {
   "codemirror_mode": {
    "name": "ipython",
    "version": 3
   },
   "file_extension": ".py",
   "mimetype": "text/x-python",
   "name": "python",
   "nbconvert_exporter": "python",
   "pygments_lexer": "ipython3",
   "version": "3.7.6"
  }
 },
 "nbformat": 4,
 "nbformat_minor": 1
}
